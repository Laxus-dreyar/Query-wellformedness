{
 "cells": [
  {
   "cell_type": "code",
   "execution_count": 1,
   "id": "8c368b39",
   "metadata": {
    "execution": {
     "iopub.execute_input": "2021-11-15T20:24:46.917098Z",
     "iopub.status.busy": "2021-11-15T20:24:46.916503Z",
     "iopub.status.idle": "2021-11-15T20:24:57.062789Z",
     "shell.execute_reply": "2021-11-15T20:24:57.063206Z"
    },
    "id": "HHQLu7limqV-",
    "papermill": {
     "duration": 10.198738,
     "end_time": "2021-11-15T20:24:57.063465",
     "exception": false,
     "start_time": "2021-11-15T20:24:46.864727",
     "status": "completed"
    },
    "tags": []
   },
   "outputs": [
    {
     "name": "stderr",
     "output_type": "stream",
     "text": [
      "2021-11-16 01:54:57.003026: I tensorflow/stream_executor/platform/default/dso_loader.cc:44] Successfully opened dynamic library libcuda.so.1\n",
      "2021-11-16 01:54:57.009643: E tensorflow/stream_executor/cuda/cuda_driver.cc:313] failed call to cuInit: CUDA_ERROR_NO_DEVICE: no CUDA-capable device is detected\n",
      "2021-11-16 01:54:57.009674: I tensorflow/stream_executor/cuda/cuda_diagnostics.cc:169] retrieving CUDA diagnostic information for host: gnode24\n",
      "2021-11-16 01:54:57.009681: I tensorflow/stream_executor/cuda/cuda_diagnostics.cc:176] hostname: gnode24\n",
      "2021-11-16 01:54:57.009751: I tensorflow/stream_executor/cuda/cuda_diagnostics.cc:200] libcuda reported version is: 440.95.1\n",
      "2021-11-16 01:54:57.009781: I tensorflow/stream_executor/cuda/cuda_diagnostics.cc:204] kernel reported version is: 440.95.1\n",
      "2021-11-16 01:54:57.009788: I tensorflow/stream_executor/cuda/cuda_diagnostics.cc:310] kernel version seems to match DSO: 440.95.1\n",
      "2021-11-16 01:54:57.010186: I tensorflow/core/platform/cpu_feature_guard.cc:143] Your CPU supports instructions that this TensorFlow binary was not compiled to use: SSE4.1 SSE4.2 AVX AVX2 FMA\n",
      "2021-11-16 01:54:57.035257: I tensorflow/core/platform/profile_utils/cpu_utils.cc:102] CPU Frequency: 2400115000 Hz\n",
      "2021-11-16 01:54:57.035606: I tensorflow/compiler/xla/service/service.cc:168] XLA service 0x5566cd37f6a0 initialized for platform Host (this does not guarantee that XLA will be used). Devices:\n",
      "2021-11-16 01:54:57.035626: I tensorflow/compiler/xla/service/service.cc:176]   StreamExecutor device (0): Host, Default Version\n"
     ]
    }
   ],
   "source": [
    "import os\n",
    "import re\n",
    "import json\n",
    "import string\n",
    "import tensorflow as tf\n",
    "from tensorflow import keras\n",
    "import pandas as pd\n",
    "import numpy as np\n",
    "from tensorflow.keras import layers\n",
    "from tokenizers import BertWordPieceTokenizer\n",
    "from transformers import BertTokenizer, TFBertModel, BertConfig\n",
    "\n",
    "max_len = 80\n",
    "configuration = BertConfig()"
   ]
  },
  {
   "cell_type": "code",
   "execution_count": 2,
   "id": "68efd10b",
   "metadata": {
    "colab": {
     "base_uri": "https://localhost:8080/",
     "height": 145,
     "referenced_widgets": [
      "182cb88253ed4bdab42e498064083664",
      "2611d908ab5a459388a05db3f0d8dc57",
      "c2cc58968ecf4bd295ed893f86e39040",
      "42d4f3306e354df8a8e2a8db617e54ba",
      "8a7cd5de1caa47588dfcab33bf9ab85c",
      "18c97f36252041fbb68476bfa4ef6dd6",
      "3edcfd58c8894b76a298584262a44fc4",
      "52b9fc425b9045ec9094f8ea1596d7e0",
      "8e17aba45ca946b5bd5468eebcd0b583",
      "97782e56b2274708927e9763da069ffb",
      "ecdba4cfa3cd4e96b88d325fd87a3af5",
      "89b65282e1bd41e79a06c1e17196e8c5",
      "7f3ca1bf885d4cf38bf5117e6f581c2f",
      "dff10207866d45088e390ed1b0fa11d0",
      "8596735a407645efa9159ddb044e4830",
      "16d77615b63f4bdcb4d3e2061a963b84",
      "260dc2ca44044bddae0001f6d1392ac2",
      "4435d2c4e525423783ac12bc9d253e5b",
      "c07e6f1788c14ad6bac28cab7e350009",
      "f62f6a5415724b33bc80549e5f5eeb40",
      "7ea4fc5633314d69a17fcb616045382a",
      "4913353c010841ed90701a5ba48720e1",
      "6287340fb8ca45ceb4cf3ea104dacc72",
      "972117fb369b45269d19e47a574490ec",
      "cd45ea1be5cb4dd29628ccbb9f140a92",
      "d011e2705b21401ab0ca49af16d9b90c",
      "470dcc574e3b4b3f8810126f721029e6",
      "df3629cd1bbc413e901be1b52e3d268d",
      "79235bf76e3b4b7a83b1f7aaf04127ab",
      "f92b32f6dccc430f816743c84f371676",
      "ffcd942d1b3e4e02b8c0562cfa2a124c",
      "dacb4d4f1b0247ce8199aeeabfcb6be9",
      "27891ada2b814027ba63382258bbd8ea",
      "7246bbfc86c641ebae67156ce5159863",
      "09e198a6412d45b4bace8f5825c9ab63",
      "418eb96d4b614003814823826f4035e6",
      "00cb065cfa7344458624f5a3728094b5",
      "ad2643c074bf46bf92e85aee66ae4cc5",
      "01b633aaa84b4b1aa1b768d94ce51b4a",
      "d9e606650e9443b6aa6e536ca992a055",
      "5b4eac47b0174029ae544af40c120190",
      "9916666c7a314a0ca85ed9862f485a59",
      "24131b04eb4046859fdd86e70d2ce7f6",
      "7cde069f37c449398a599d1283299990"
     ]
    },
    "execution": {
     "iopub.execute_input": "2021-11-15T20:24:57.144569Z",
     "iopub.status.busy": "2021-11-15T20:24:57.144020Z",
     "iopub.status.idle": "2021-11-15T20:24:58.236577Z",
     "shell.execute_reply": "2021-11-15T20:24:58.236166Z"
    },
    "id": "eZxFmqKsmq-i",
    "outputId": "218a37a5-558c-4694-b54a-e42a5553199f",
    "papermill": {
     "duration": 1.133243,
     "end_time": "2021-11-15T20:24:58.236680",
     "exception": false,
     "start_time": "2021-11-15T20:24:57.103437",
     "status": "completed"
    },
    "tags": []
   },
   "outputs": [],
   "source": [
    "slow_tokenizer = BertTokenizer.from_pretrained(\"bert-base-uncased\")\n",
    "slow_tokenizer.save_pretrained(\"./bert_base_uncased/\")\n",
    "\n",
    "tokenizer = BertWordPieceTokenizer(\"./bert_base_uncased/vocab.txt\", lowercase=True)"
   ]
  },
  {
   "cell_type": "code",
   "execution_count": 3,
   "id": "09623108",
   "metadata": {
    "execution": {
     "iopub.execute_input": "2021-11-15T20:24:58.316550Z",
     "iopub.status.busy": "2021-11-15T20:24:58.316111Z",
     "iopub.status.idle": "2021-11-15T20:24:58.346763Z",
     "shell.execute_reply": "2021-11-15T20:24:58.347148Z"
    },
    "id": "NWWr3Y5jn56I",
    "papermill": {
     "duration": 0.072504,
     "end_time": "2021-11-15T20:24:58.347258",
     "exception": false,
     "start_time": "2021-11-15T20:24:58.274754",
     "status": "completed"
    },
    "tags": []
   },
   "outputs": [],
   "source": [
    "data = pd.read_csv('../train.tsv',sep='\\t',header=None)\n",
    "data1 = pd.read_csv('../test.tsv',sep='\\t',header=None)"
   ]
  },
  {
   "cell_type": "code",
   "execution_count": 4,
   "id": "49b9aca3",
   "metadata": {
    "colab": {
     "base_uri": "https://localhost:8080/",
     "height": 419
    },
    "execution": {
     "iopub.execute_input": "2021-11-15T20:24:58.432293Z",
     "iopub.status.busy": "2021-11-15T20:24:58.431760Z",
     "iopub.status.idle": "2021-11-15T20:24:58.442449Z",
     "shell.execute_reply": "2021-11-15T20:24:58.442807Z"
    },
    "id": "JkPdDNkGpBci",
    "outputId": "ad67450d-f32a-4de1-acf1-5776724eb19c",
    "papermill": {
     "duration": 0.057907,
     "end_time": "2021-11-15T20:24:58.442910",
     "exception": false,
     "start_time": "2021-11-15T20:24:58.385003",
     "status": "completed"
    },
    "tags": []
   },
   "outputs": [
    {
     "data": {
      "text/html": [
       "<div>\n",
       "<style scoped>\n",
       "    .dataframe tbody tr th:only-of-type {\n",
       "        vertical-align: middle;\n",
       "    }\n",
       "\n",
       "    .dataframe tbody tr th {\n",
       "        vertical-align: top;\n",
       "    }\n",
       "\n",
       "    .dataframe thead th {\n",
       "        text-align: right;\n",
       "    }\n",
       "</style>\n",
       "<table border=\"1\" class=\"dataframe\">\n",
       "  <thead>\n",
       "    <tr style=\"text-align: right;\">\n",
       "      <th></th>\n",
       "      <th>0</th>\n",
       "      <th>1</th>\n",
       "    </tr>\n",
       "  </thead>\n",
       "  <tbody>\n",
       "    <tr>\n",
       "      <th>0</th>\n",
       "      <td>The European Union includes how many ?</td>\n",
       "      <td>0.2</td>\n",
       "    </tr>\n",
       "    <tr>\n",
       "      <th>1</th>\n",
       "      <td>What are Mia Hamms accomplishment ?</td>\n",
       "      <td>0.4</td>\n",
       "    </tr>\n",
       "    <tr>\n",
       "      <th>2</th>\n",
       "      <td>Which form of government is still in place in ...</td>\n",
       "      <td>1.0</td>\n",
       "    </tr>\n",
       "    <tr>\n",
       "      <th>3</th>\n",
       "      <td>When was the canal de panama built ?</td>\n",
       "      <td>0.8</td>\n",
       "    </tr>\n",
       "    <tr>\n",
       "      <th>4</th>\n",
       "      <td>What color is the black box on commercial aero...</td>\n",
       "      <td>0.6</td>\n",
       "    </tr>\n",
       "    <tr>\n",
       "      <th>...</th>\n",
       "      <td>...</td>\n",
       "      <td>...</td>\n",
       "    </tr>\n",
       "    <tr>\n",
       "      <th>17495</th>\n",
       "      <td>What is the youngest college graduate ?</td>\n",
       "      <td>0.4</td>\n",
       "    </tr>\n",
       "    <tr>\n",
       "      <th>17496</th>\n",
       "      <td>Pros and cons of making dams ?</td>\n",
       "      <td>0.0</td>\n",
       "    </tr>\n",
       "    <tr>\n",
       "      <th>17497</th>\n",
       "      <td>Life and story of jose ma panganiban ?</td>\n",
       "      <td>0.0</td>\n",
       "    </tr>\n",
       "    <tr>\n",
       "      <th>17498</th>\n",
       "      <td>How do you apply for a super delegate position ?</td>\n",
       "      <td>1.0</td>\n",
       "    </tr>\n",
       "    <tr>\n",
       "      <th>17499</th>\n",
       "      <td>What is the incubation period for a giant tort...</td>\n",
       "      <td>1.0</td>\n",
       "    </tr>\n",
       "  </tbody>\n",
       "</table>\n",
       "<p>17500 rows × 2 columns</p>\n",
       "</div>"
      ],
      "text/plain": [
       "                                                       0    1\n",
       "0                 The European Union includes how many ?  0.2\n",
       "1                    What are Mia Hamms accomplishment ?  0.4\n",
       "2      Which form of government is still in place in ...  1.0\n",
       "3                   When was the canal de panama built ?  0.8\n",
       "4      What color is the black box on commercial aero...  0.6\n",
       "...                                                  ...  ...\n",
       "17495            What is the youngest college graduate ?  0.4\n",
       "17496                     Pros and cons of making dams ?  0.0\n",
       "17497             Life and story of jose ma panganiban ?  0.0\n",
       "17498   How do you apply for a super delegate position ?  1.0\n",
       "17499  What is the incubation period for a giant tort...  1.0\n",
       "\n",
       "[17500 rows x 2 columns]"
      ]
     },
     "execution_count": 4,
     "metadata": {},
     "output_type": "execute_result"
    }
   ],
   "source": [
    "data"
   ]
  },
  {
   "cell_type": "code",
   "execution_count": 5,
   "id": "14ffa5cb",
   "metadata": {
    "execution": {
     "iopub.execute_input": "2021-11-15T20:24:58.525682Z",
     "iopub.status.busy": "2021-11-15T20:24:58.524968Z",
     "iopub.status.idle": "2021-11-15T20:24:58.527609Z",
     "shell.execute_reply": "2021-11-15T20:24:58.527969Z"
    },
    "id": "fOMhK2y0pC5c",
    "papermill": {
     "duration": 0.045975,
     "end_time": "2021-11-15T20:24:58.528070",
     "exception": false,
     "start_time": "2021-11-15T20:24:58.482095",
     "status": "completed"
    },
    "tags": []
   },
   "outputs": [],
   "source": [
    "str_list = data[0].to_list()\n",
    "y_train = data[1].to_numpy()\n",
    "y_train[y_train <= 0.8] = 0\n",
    "y_train[y_train > 0.8] = 1\n",
    "\n",
    "str_list1 = data1[0].to_list()\n",
    "y_test = data1[1].to_numpy()\n",
    "y_test[y_test <= 0.8] = 0\n",
    "y_test[y_test > 0.8] = 1"
   ]
  },
  {
   "cell_type": "code",
   "execution_count": 6,
   "id": "31bfff89",
   "metadata": {
    "colab": {
     "base_uri": "https://localhost:8080/"
    },
    "execution": {
     "iopub.execute_input": "2021-11-15T20:24:58.611316Z",
     "iopub.status.busy": "2021-11-15T20:24:58.610602Z",
     "iopub.status.idle": "2021-11-15T20:24:58.614164Z",
     "shell.execute_reply": "2021-11-15T20:24:58.614522Z"
    },
    "id": "WNnAwjzDq8M2",
    "outputId": "18edaf74-0739-4383-8ae3-ad781e04b684",
    "papermill": {
     "duration": 0.045723,
     "end_time": "2021-11-15T20:24:58.614623",
     "exception": false,
     "start_time": "2021-11-15T20:24:58.568900",
     "status": "completed"
    },
    "tags": []
   },
   "outputs": [
    {
     "name": "stdout",
     "output_type": "stream",
     "text": [
      "17500\n",
      "(17500,) (3750,)\n",
      "[0. 1.]\n"
     ]
    }
   ],
   "source": [
    "print(len(str_list))\n",
    "print(y_train.shape,y_test.shape)\n",
    "print(np.unique(y_train))"
   ]
  },
  {
   "cell_type": "code",
   "execution_count": 7,
   "id": "822e05b7",
   "metadata": {
    "execution": {
     "iopub.execute_input": "2021-11-15T20:24:58.698951Z",
     "iopub.status.busy": "2021-11-15T20:24:58.698381Z",
     "iopub.status.idle": "2021-11-15T20:24:58.700480Z",
     "shell.execute_reply": "2021-11-15T20:24:58.700105Z"
    },
    "id": "0OuaoWR0uSFz",
    "papermill": {
     "duration": 0.045996,
     "end_time": "2021-11-15T20:24:58.700569",
     "exception": false,
     "start_time": "2021-11-15T20:24:58.654573",
     "status": "completed"
    },
    "tags": []
   },
   "outputs": [],
   "source": [
    "def preprocess_data(sent):\n",
    "  \n",
    "  sent = \" \".join(str(sent).split())\n",
    "  tokenized_question = tokenizer.encode(sent)\n",
    "  input_ids = tokenized_question.ids[:]\n",
    "  token_type_ids = [1] * len(tokenized_question.ids)\n",
    "  attention_mask = [1] * len(input_ids)\n",
    "  padding_length = max_len - len(input_ids)\n",
    "  if padding_length > 0:\n",
    "    input_ids = input_ids + ([0] * padding_length)\n",
    "    attention_mask = attention_mask + ([0] * padding_length)\n",
    "    token_type_ids = token_type_ids + ([0] * padding_length)\n",
    "  \n",
    "  \n",
    "  return input_ids, token_type_ids, attention_mask"
   ]
  },
  {
   "cell_type": "code",
   "execution_count": 8,
   "id": "0fb06414",
   "metadata": {
    "execution": {
     "iopub.execute_input": "2021-11-15T20:24:58.784358Z",
     "iopub.status.busy": "2021-11-15T20:24:58.783797Z",
     "iopub.status.idle": "2021-11-15T20:24:58.785871Z",
     "shell.execute_reply": "2021-11-15T20:24:58.785496Z"
    },
    "id": "E3zgFHssWOpa",
    "papermill": {
     "duration": 0.04555,
     "end_time": "2021-11-15T20:24:58.785958",
     "exception": false,
     "start_time": "2021-11-15T20:24:58.740408",
     "status": "completed"
    },
    "tags": []
   },
   "outputs": [],
   "source": [
    "def func():\n",
    "  a_1 = []\n",
    "  b_1 = []\n",
    "  c_1 = []\n",
    "  for i in range(len(str_list)):\n",
    "    a,b,c = preprocess_data(str_list[i])\n",
    "    a_1.append(a)\n",
    "    b_1.append(b)\n",
    "    c_1.append(c)\n",
    "  \n",
    "  return np.array(a_1) , np.array(b_1), np.array(c_1)\n"
   ]
  },
  {
   "cell_type": "code",
   "execution_count": 9,
   "id": "28f8d5b9",
   "metadata": {
    "execution": {
     "iopub.execute_input": "2021-11-15T20:24:58.869650Z",
     "iopub.status.busy": "2021-11-15T20:24:58.869076Z",
     "iopub.status.idle": "2021-11-15T20:24:58.871179Z",
     "shell.execute_reply": "2021-11-15T20:24:58.870757Z"
    },
    "papermill": {
     "duration": 0.045208,
     "end_time": "2021-11-15T20:24:58.871272",
     "exception": false,
     "start_time": "2021-11-15T20:24:58.826064",
     "status": "completed"
    },
    "tags": []
   },
   "outputs": [],
   "source": [
    "def func1():\n",
    "  a_1 = []\n",
    "  b_1 = []\n",
    "  c_1 = []\n",
    "  for i in range(len(str_list1)):\n",
    "    a,b,c = preprocess_data(str_list1[i])\n",
    "    a_1.append(a)\n",
    "    b_1.append(b)\n",
    "    c_1.append(c)\n",
    "  \n",
    "  return np.array(a_1) , np.array(b_1), np.array(c_1)"
   ]
  },
  {
   "cell_type": "code",
   "execution_count": 10,
   "id": "8e930502",
   "metadata": {
    "execution": {
     "iopub.execute_input": "2021-11-15T20:24:58.989130Z",
     "iopub.status.busy": "2021-11-15T20:24:58.955864Z",
     "iopub.status.idle": "2021-11-15T20:25:00.677258Z",
     "shell.execute_reply": "2021-11-15T20:25:00.677619Z"
    },
    "id": "IvQdI1J5bS8q",
    "papermill": {
     "duration": 1.766202,
     "end_time": "2021-11-15T20:25:00.677757",
     "exception": false,
     "start_time": "2021-11-15T20:24:58.911555",
     "status": "completed"
    },
    "tags": []
   },
   "outputs": [],
   "source": [
    "X_train = func()\n",
    "X_test = func1()"
   ]
  },
  {
   "cell_type": "code",
   "execution_count": 11,
   "id": "8a37f401",
   "metadata": {
    "colab": {
     "base_uri": "https://localhost:8080/"
    },
    "execution": {
     "iopub.execute_input": "2021-11-15T20:25:00.766219Z",
     "iopub.status.busy": "2021-11-15T20:25:00.765772Z",
     "iopub.status.idle": "2021-11-15T20:25:11.860241Z",
     "shell.execute_reply": "2021-11-15T20:25:11.860592Z"
    },
    "id": "AwR0s2IFySro",
    "outputId": "af04780d-5d09-451e-c22a-924a2c6c0349",
    "papermill": {
     "duration": 11.141147,
     "end_time": "2021-11-15T20:25:11.860725",
     "exception": false,
     "start_time": "2021-11-15T20:25:00.719578",
     "status": "completed"
    },
    "tags": []
   },
   "outputs": [],
   "source": [
    "encoder = TFBertModel.from_pretrained(\"bert-base-uncased\")\n",
    "\n",
    "input_ids = layers.Input(shape=(max_len,), name=\"input1\", dtype=tf.int32)\n",
    "token_type_ids = layers.Input(shape=(max_len,), name=\"input2\", dtype=tf.int32)\n",
    "attention_mask = layers.Input(shape=(max_len,), name=\"input3\", dtype=tf.int32)\n",
    "embedding = encoder(input_ids, token_type_ids=token_type_ids, attention_mask=attention_mask)[0]\n",
    "\n",
    "start_logits = layers.Flatten()(embedding)\n",
    "start_logits = layers.Dense(10, name=\"out\", use_bias=False,activation='relu')(start_logits)\n",
    "final_out = layers.Dense(1,name=\"out1\",activation='sigmoid')(start_logits)\n",
    "model = keras.Model(inputs=[input_ids, token_type_ids, attention_mask],outputs=[final_out])\n",
    "optimizer = keras.optimizers.Adam(lr=5e-5)\n",
    "model.compile(optimizer=optimizer, loss=tf.keras.losses.BinaryCrossentropy(),metrics=[\"accuracy\"])"
   ]
  },
  {
   "cell_type": "code",
   "execution_count": 12,
   "id": "e86af426",
   "metadata": {
    "colab": {
     "base_uri": "https://localhost:8080/"
    },
    "execution": {
     "iopub.execute_input": "2021-11-15T20:25:11.947939Z",
     "iopub.status.busy": "2021-11-15T20:25:11.947216Z",
     "iopub.status.idle": "2021-11-15T20:25:11.950446Z",
     "shell.execute_reply": "2021-11-15T20:25:11.950828Z"
    },
    "id": "M4Hx6R-o7XDH",
    "outputId": "c0b0bde2-614f-4623-b51b-1c3b5f92db81",
    "papermill": {
     "duration": 0.048048,
     "end_time": "2021-11-15T20:25:11.950931",
     "exception": false,
     "start_time": "2021-11-15T20:25:11.902883",
     "status": "completed"
    },
    "tags": []
   },
   "outputs": [
    {
     "name": "stdout",
     "output_type": "stream",
     "text": [
      "input1 True\n",
      "input3 True\n",
      "input2 True\n",
      "tf_bert_model True\n",
      "flatten True\n",
      "out True\n",
      "out1 True\n"
     ]
    }
   ],
   "source": [
    "model.layers[3].trainable = True\n",
    "for i in model.layers:\n",
    "  print(i.name,i.trainable)"
   ]
  },
  {
   "cell_type": "code",
   "execution_count": 13,
   "id": "3046e324",
   "metadata": {
    "colab": {
     "base_uri": "https://localhost:8080/"
    },
    "execution": {
     "iopub.execute_input": "2021-11-15T20:25:12.041382Z",
     "iopub.status.busy": "2021-11-15T20:25:12.040684Z",
     "iopub.status.idle": "2021-11-15T20:25:12.052310Z",
     "shell.execute_reply": "2021-11-15T20:25:12.051933Z"
    },
    "id": "Sbvp1zqQceAr",
    "outputId": "594c2d88-6695-4fed-db2b-f63e5f4f81f1",
    "papermill": {
     "duration": 0.060659,
     "end_time": "2021-11-15T20:25:12.052399",
     "exception": false,
     "start_time": "2021-11-15T20:25:11.991740",
     "status": "completed"
    },
    "tags": []
   },
   "outputs": [
    {
     "name": "stdout",
     "output_type": "stream",
     "text": [
      "Model: \"model\"\n",
      "__________________________________________________________________________________________________\n",
      "Layer (type)                    Output Shape         Param #     Connected to                     \n",
      "==================================================================================================\n",
      "input1 (InputLayer)             [(None, 80)]         0                                            \n",
      "__________________________________________________________________________________________________\n",
      "input3 (InputLayer)             [(None, 80)]         0                                            \n",
      "__________________________________________________________________________________________________\n",
      "input2 (InputLayer)             [(None, 80)]         0                                            \n",
      "__________________________________________________________________________________________________\n",
      "tf_bert_model (TFBertModel)     ((None, 80, 768), (N 109482240   input1[0][0]                     \n",
      "__________________________________________________________________________________________________\n",
      "flatten (Flatten)               (None, 61440)        0           tf_bert_model[0][0]              \n",
      "__________________________________________________________________________________________________\n",
      "out (Dense)                     (None, 10)           614400      flatten[0][0]                    \n",
      "__________________________________________________________________________________________________\n",
      "out1 (Dense)                    (None, 1)            11          out[0][0]                        \n",
      "==================================================================================================\n",
      "Total params: 110,096,651\n",
      "Trainable params: 110,096,651\n",
      "Non-trainable params: 0\n",
      "__________________________________________________________________________________________________\n"
     ]
    }
   ],
   "source": [
    "model.summary()"
   ]
  },
  {
   "cell_type": "code",
   "execution_count": 14,
   "id": "67982c16",
   "metadata": {
    "colab": {
     "base_uri": "https://localhost:8080/"
    },
    "execution": {
     "iopub.execute_input": "2021-11-15T20:25:12.149545Z",
     "iopub.status.busy": "2021-11-15T20:25:12.148822Z",
     "iopub.status.idle": "2021-11-15T21:43:11.103113Z",
     "shell.execute_reply": "2021-11-15T21:43:11.103645Z"
    },
    "id": "GhvdfTkschBi",
    "outputId": "2e5f95e7-468e-4b7a-960f-cf54dd9007c9",
    "papermill": {
     "duration": 4679.009139,
     "end_time": "2021-11-15T21:43:11.103845",
     "exception": false,
     "start_time": "2021-11-15T20:25:12.094706",
     "status": "completed"
    },
    "tags": []
   },
   "outputs": [
    {
     "name": "stdout",
     "output_type": "stream",
     "text": [
      "WARNING:tensorflow:Gradients do not exist for variables ['tf_bert_model/bert/pooler/dense/kernel:0', 'tf_bert_model/bert/pooler/dense/bias:0'] when minimizing the loss.\n",
      "WARNING:tensorflow:Gradients do not exist for variables ['tf_bert_model/bert/pooler/dense/kernel:0', 'tf_bert_model/bert/pooler/dense/bias:0'] when minimizing the loss.\n",
      "WARNING:tensorflow:Gradients do not exist for variables ['tf_bert_model/bert/pooler/dense/kernel:0', 'tf_bert_model/bert/pooler/dense/bias:0'] when minimizing the loss.\n",
      "WARNING:tensorflow:Gradients do not exist for variables ['tf_bert_model/bert/pooler/dense/kernel:0', 'tf_bert_model/bert/pooler/dense/bias:0'] when minimizing the loss.\n",
      "274/274 [==============================] - 4647s 17s/step - loss: 0.4511 - accuracy: 0.7895\n"
     ]
    },
    {
     "data": {
      "text/plain": [
       "<tensorflow.python.keras.callbacks.History at 0x145a6b1191f0>"
      ]
     },
     "execution_count": 14,
     "metadata": {},
     "output_type": "execute_result"
    }
   ],
   "source": [
    "model.fit(X_train,y_train,epochs=1,batch_size=64)"
   ]
  },
  {
   "cell_type": "code",
   "execution_count": 15,
   "id": "39cab2fb",
   "metadata": {
    "execution": {
     "iopub.execute_input": "2021-11-15T21:43:11.652204Z",
     "iopub.status.busy": "2021-11-15T21:43:11.618748Z",
     "iopub.status.idle": "2021-11-15T21:43:24.264035Z",
     "shell.execute_reply": "2021-11-15T21:43:24.263604Z"
    },
    "papermill": {
     "duration": 12.922417,
     "end_time": "2021-11-15T21:43:24.264143",
     "exception": false,
     "start_time": "2021-11-15T21:43:11.341726",
     "status": "completed"
    },
    "tags": []
   },
   "outputs": [],
   "source": [
    "model.save_weights('./weights')"
   ]
  },
  {
   "cell_type": "code",
   "execution_count": 16,
   "id": "107c9f8d",
   "metadata": {
    "execution": {
     "iopub.execute_input": "2021-11-15T21:43:24.774009Z",
     "iopub.status.busy": "2021-11-15T21:43:24.773324Z",
     "iopub.status.idle": "2021-11-15T21:48:25.394045Z",
     "shell.execute_reply": "2021-11-15T21:48:25.394422Z"
    },
    "id": "RJ9g8mirdDxl",
    "papermill": {
     "duration": 300.86654,
     "end_time": "2021-11-15T21:48:25.394558",
     "exception": false,
     "start_time": "2021-11-15T21:43:24.528018",
     "status": "completed"
    },
    "tags": []
   },
   "outputs": [],
   "source": [
    "y_pred = model.predict(X_test)"
   ]
  },
  {
   "cell_type": "code",
   "execution_count": 17,
   "id": "6ed86e6c",
   "metadata": {
    "colab": {
     "base_uri": "https://localhost:8080/"
    },
    "execution": {
     "iopub.execute_input": "2021-11-15T21:48:25.896669Z",
     "iopub.status.busy": "2021-11-15T21:48:25.896211Z",
     "iopub.status.idle": "2021-11-15T21:48:25.897813Z",
     "shell.execute_reply": "2021-11-15T21:48:25.898193Z"
    },
    "id": "SQ9XnSWOCeLW",
    "outputId": "61ac252f-5f5d-4fdd-9426-cb547d6b8593",
    "papermill": {
     "duration": 0.268564,
     "end_time": "2021-11-15T21:48:25.898308",
     "exception": false,
     "start_time": "2021-11-15T21:48:25.629744",
     "status": "completed"
    },
    "tags": []
   },
   "outputs": [],
   "source": [
    "y_true = y_test"
   ]
  },
  {
   "cell_type": "code",
   "execution_count": 18,
   "id": "a817c0ef",
   "metadata": {
    "colab": {
     "base_uri": "https://localhost:8080/"
    },
    "execution": {
     "iopub.execute_input": "2021-11-15T21:48:26.375968Z",
     "iopub.status.busy": "2021-11-15T21:48:26.375532Z",
     "iopub.status.idle": "2021-11-15T21:48:26.377685Z",
     "shell.execute_reply": "2021-11-15T21:48:26.378037Z"
    },
    "id": "0fgiJBUSChVH",
    "outputId": "e28f615f-2cec-4b06-f66d-06c6cddad517",
    "papermill": {
     "duration": 0.239738,
     "end_time": "2021-11-15T21:48:26.378158",
     "exception": false,
     "start_time": "2021-11-15T21:48:26.138420",
     "status": "completed"
    },
    "tags": []
   },
   "outputs": [
    {
     "name": "stdout",
     "output_type": "stream",
     "text": [
      "(3750,) (3750,)\n"
     ]
    }
   ],
   "source": [
    "y_pred = y_pred.reshape(y_true.shape)\n",
    "\n",
    "print(y_pred.shape,y_true.shape)"
   ]
  },
  {
   "cell_type": "code",
   "execution_count": 19,
   "id": "79b14e4b",
   "metadata": {
    "execution": {
     "iopub.execute_input": "2021-11-15T21:48:26.839556Z",
     "iopub.status.busy": "2021-11-15T21:48:26.838983Z",
     "iopub.status.idle": "2021-11-15T21:48:26.842857Z",
     "shell.execute_reply": "2021-11-15T21:48:26.842482Z"
    },
    "id": "aG5e_4yCCjNd",
    "papermill": {
     "duration": 0.236967,
     "end_time": "2021-11-15T21:48:26.842945",
     "exception": false,
     "start_time": "2021-11-15T21:48:26.605978",
     "status": "completed"
    },
    "tags": []
   },
   "outputs": [
    {
     "name": "stdout",
     "output_type": "stream",
     "text": [
      "0.8226666666666667\n"
     ]
    }
   ],
   "source": [
    "true_pos = np.zeros(y_true.shape)\n",
    "true_neg = np.zeros(y_true.shape)\n",
    "false_pos = np.zeros(y_true.shape)\n",
    "false_neg = np.zeros(y_true.shape)\n",
    "\n",
    "true_pos[(y_pred > 0.5) & (y_true == 1)] = 1\n",
    "true_neg[(y_pred <= 0.5) & (y_true == 0)] = 1\n",
    "false_pos[(y_pred > 0.5) & (y_true == 0)] = 1\n",
    "false_neg[(y_pred <= 0.5) & (y_true == 1)] = 1\n",
    "\n",
    "print((np.sum(true_pos) + np.sum(true_neg)) / np.sum(np.ones(y_true.shape)))"
   ]
  }
 ],
 "metadata": {
  "colab": {
   "collapsed_sections": [],
   "name": "Untitled1.ipynb",
   "provenance": []
  },
  "kernelspec": {
   "display_name": "Python 3 (ipykernel)",
   "language": "python",
   "name": "python3"
  },
  "language_info": {
   "codemirror_mode": {
    "name": "ipython",
    "version": 3
   },
   "file_extension": ".py",
   "mimetype": "text/x-python",
   "name": "python",
   "nbconvert_exporter": "python",
   "pygments_lexer": "ipython3",
   "version": "3.8.8"
  },
  "papermill": {
   "default_parameters": {},
   "duration": 5026.311351,
   "end_time": "2021-11-15T21:48:30.786250",
   "environment_variables": {},
   "exception": null,
   "input_path": "/home/starc52/mrinal/Train.ipynb",
   "output_path": "/home/starc52/mrinal/Output.ipynb",
   "parameters": {},
   "start_time": "2021-11-15T20:24:44.474899",
   "version": "2.3.3"
  },
  "widgets": {
   "application/vnd.jupyter.widget-state+json": {
    "00cb065cfa7344458624f5a3728094b5": {
     "model_module": "@jupyter-widgets/controls",
     "model_module_version": "1.5.0",
     "model_name": "FloatProgressModel",
     "state": {
      "_dom_classes": [],
      "_model_module": "@jupyter-widgets/controls",
      "_model_module_version": "1.5.0",
      "_model_name": "FloatProgressModel",
      "_view_count": null,
      "_view_module": "@jupyter-widgets/controls",
      "_view_module_version": "1.5.0",
      "_view_name": "ProgressView",
      "bar_style": "success",
      "description": "",
      "description_tooltip": null,
      "layout": "IPY_MODEL_9916666c7a314a0ca85ed9862f485a59",
      "max": 570,
      "min": 0,
      "orientation": "horizontal",
      "style": "IPY_MODEL_5b4eac47b0174029ae544af40c120190",
      "value": 570
     }
    },
    "01b633aaa84b4b1aa1b768d94ce51b4a": {
     "model_module": "@jupyter-widgets/controls",
     "model_module_version": "1.5.0",
     "model_name": "DescriptionStyleModel",
     "state": {
      "_model_module": "@jupyter-widgets/controls",
      "_model_module_version": "1.5.0",
      "_model_name": "DescriptionStyleModel",
      "_view_count": null,
      "_view_module": "@jupyter-widgets/base",
      "_view_module_version": "1.2.0",
      "_view_name": "StyleView",
      "description_width": ""
     }
    },
    "09e198a6412d45b4bace8f5825c9ab63": {
     "model_module": "@jupyter-widgets/base",
     "model_module_version": "1.2.0",
     "model_name": "LayoutModel",
     "state": {
      "_model_module": "@jupyter-widgets/base",
      "_model_module_version": "1.2.0",
      "_model_name": "LayoutModel",
      "_view_count": null,
      "_view_module": "@jupyter-widgets/base",
      "_view_module_version": "1.2.0",
      "_view_name": "LayoutView",
      "align_content": null,
      "align_items": null,
      "align_self": null,
      "border": null,
      "bottom": null,
      "display": null,
      "flex": null,
      "flex_flow": null,
      "grid_area": null,
      "grid_auto_columns": null,
      "grid_auto_flow": null,
      "grid_auto_rows": null,
      "grid_column": null,
      "grid_gap": null,
      "grid_row": null,
      "grid_template_areas": null,
      "grid_template_columns": null,
      "grid_template_rows": null,
      "height": null,
      "justify_content": null,
      "justify_items": null,
      "left": null,
      "margin": null,
      "max_height": null,
      "max_width": null,
      "min_height": null,
      "min_width": null,
      "object_fit": null,
      "object_position": null,
      "order": null,
      "overflow": null,
      "overflow_x": null,
      "overflow_y": null,
      "padding": null,
      "right": null,
      "top": null,
      "visibility": null,
      "width": null
     }
    },
    "16d77615b63f4bdcb4d3e2061a963b84": {
     "model_module": "@jupyter-widgets/controls",
     "model_module_version": "1.5.0",
     "model_name": "HTMLModel",
     "state": {
      "_dom_classes": [],
      "_model_module": "@jupyter-widgets/controls",
      "_model_module_version": "1.5.0",
      "_model_name": "HTMLModel",
      "_view_count": null,
      "_view_module": "@jupyter-widgets/controls",
      "_view_module_version": "1.5.0",
      "_view_name": "HTMLView",
      "description": "",
      "description_tooltip": null,
      "layout": "IPY_MODEL_4913353c010841ed90701a5ba48720e1",
      "placeholder": "​",
      "style": "IPY_MODEL_7ea4fc5633314d69a17fcb616045382a",
      "value": " 28.0/28.0 [00:00&lt;00:00, 650B/s]"
     }
    },
    "182cb88253ed4bdab42e498064083664": {
     "model_module": "@jupyter-widgets/controls",
     "model_module_version": "1.5.0",
     "model_name": "HBoxModel",
     "state": {
      "_dom_classes": [],
      "_model_module": "@jupyter-widgets/controls",
      "_model_module_version": "1.5.0",
      "_model_name": "HBoxModel",
      "_view_count": null,
      "_view_module": "@jupyter-widgets/controls",
      "_view_module_version": "1.5.0",
      "_view_name": "HBoxView",
      "box_style": "",
      "children": [
       "IPY_MODEL_c2cc58968ecf4bd295ed893f86e39040",
       "IPY_MODEL_42d4f3306e354df8a8e2a8db617e54ba",
       "IPY_MODEL_8a7cd5de1caa47588dfcab33bf9ab85c"
      ],
      "layout": "IPY_MODEL_2611d908ab5a459388a05db3f0d8dc57"
     }
    },
    "18c97f36252041fbb68476bfa4ef6dd6": {
     "model_module": "@jupyter-widgets/controls",
     "model_module_version": "1.5.0",
     "model_name": "DescriptionStyleModel",
     "state": {
      "_model_module": "@jupyter-widgets/controls",
      "_model_module_version": "1.5.0",
      "_model_name": "DescriptionStyleModel",
      "_view_count": null,
      "_view_module": "@jupyter-widgets/base",
      "_view_module_version": "1.2.0",
      "_view_name": "StyleView",
      "description_width": ""
     }
    },
    "24131b04eb4046859fdd86e70d2ce7f6": {
     "model_module": "@jupyter-widgets/controls",
     "model_module_version": "1.5.0",
     "model_name": "DescriptionStyleModel",
     "state": {
      "_model_module": "@jupyter-widgets/controls",
      "_model_module_version": "1.5.0",
      "_model_name": "DescriptionStyleModel",
      "_view_count": null,
      "_view_module": "@jupyter-widgets/base",
      "_view_module_version": "1.2.0",
      "_view_name": "StyleView",
      "description_width": ""
     }
    },
    "260dc2ca44044bddae0001f6d1392ac2": {
     "model_module": "@jupyter-widgets/controls",
     "model_module_version": "1.5.0",
     "model_name": "DescriptionStyleModel",
     "state": {
      "_model_module": "@jupyter-widgets/controls",
      "_model_module_version": "1.5.0",
      "_model_name": "DescriptionStyleModel",
      "_view_count": null,
      "_view_module": "@jupyter-widgets/base",
      "_view_module_version": "1.2.0",
      "_view_name": "StyleView",
      "description_width": ""
     }
    },
    "2611d908ab5a459388a05db3f0d8dc57": {
     "model_module": "@jupyter-widgets/base",
     "model_module_version": "1.2.0",
     "model_name": "LayoutModel",
     "state": {
      "_model_module": "@jupyter-widgets/base",
      "_model_module_version": "1.2.0",
      "_model_name": "LayoutModel",
      "_view_count": null,
      "_view_module": "@jupyter-widgets/base",
      "_view_module_version": "1.2.0",
      "_view_name": "LayoutView",
      "align_content": null,
      "align_items": null,
      "align_self": null,
      "border": null,
      "bottom": null,
      "display": null,
      "flex": null,
      "flex_flow": null,
      "grid_area": null,
      "grid_auto_columns": null,
      "grid_auto_flow": null,
      "grid_auto_rows": null,
      "grid_column": null,
      "grid_gap": null,
      "grid_row": null,
      "grid_template_areas": null,
      "grid_template_columns": null,
      "grid_template_rows": null,
      "height": null,
      "justify_content": null,
      "justify_items": null,
      "left": null,
      "margin": null,
      "max_height": null,
      "max_width": null,
      "min_height": null,
      "min_width": null,
      "object_fit": null,
      "object_position": null,
      "order": null,
      "overflow": null,
      "overflow_x": null,
      "overflow_y": null,
      "padding": null,
      "right": null,
      "top": null,
      "visibility": null,
      "width": null
     }
    },
    "27891ada2b814027ba63382258bbd8ea": {
     "model_module": "@jupyter-widgets/base",
     "model_module_version": "1.2.0",
     "model_name": "LayoutModel",
     "state": {
      "_model_module": "@jupyter-widgets/base",
      "_model_module_version": "1.2.0",
      "_model_name": "LayoutModel",
      "_view_count": null,
      "_view_module": "@jupyter-widgets/base",
      "_view_module_version": "1.2.0",
      "_view_name": "LayoutView",
      "align_content": null,
      "align_items": null,
      "align_self": null,
      "border": null,
      "bottom": null,
      "display": null,
      "flex": null,
      "flex_flow": null,
      "grid_area": null,
      "grid_auto_columns": null,
      "grid_auto_flow": null,
      "grid_auto_rows": null,
      "grid_column": null,
      "grid_gap": null,
      "grid_row": null,
      "grid_template_areas": null,
      "grid_template_columns": null,
      "grid_template_rows": null,
      "height": null,
      "justify_content": null,
      "justify_items": null,
      "left": null,
      "margin": null,
      "max_height": null,
      "max_width": null,
      "min_height": null,
      "min_width": null,
      "object_fit": null,
      "object_position": null,
      "order": null,
      "overflow": null,
      "overflow_x": null,
      "overflow_y": null,
      "padding": null,
      "right": null,
      "top": null,
      "visibility": null,
      "width": null
     }
    },
    "3edcfd58c8894b76a298584262a44fc4": {
     "model_module": "@jupyter-widgets/base",
     "model_module_version": "1.2.0",
     "model_name": "LayoutModel",
     "state": {
      "_model_module": "@jupyter-widgets/base",
      "_model_module_version": "1.2.0",
      "_model_name": "LayoutModel",
      "_view_count": null,
      "_view_module": "@jupyter-widgets/base",
      "_view_module_version": "1.2.0",
      "_view_name": "LayoutView",
      "align_content": null,
      "align_items": null,
      "align_self": null,
      "border": null,
      "bottom": null,
      "display": null,
      "flex": null,
      "flex_flow": null,
      "grid_area": null,
      "grid_auto_columns": null,
      "grid_auto_flow": null,
      "grid_auto_rows": null,
      "grid_column": null,
      "grid_gap": null,
      "grid_row": null,
      "grid_template_areas": null,
      "grid_template_columns": null,
      "grid_template_rows": null,
      "height": null,
      "justify_content": null,
      "justify_items": null,
      "left": null,
      "margin": null,
      "max_height": null,
      "max_width": null,
      "min_height": null,
      "min_width": null,
      "object_fit": null,
      "object_position": null,
      "order": null,
      "overflow": null,
      "overflow_x": null,
      "overflow_y": null,
      "padding": null,
      "right": null,
      "top": null,
      "visibility": null,
      "width": null
     }
    },
    "418eb96d4b614003814823826f4035e6": {
     "model_module": "@jupyter-widgets/controls",
     "model_module_version": "1.5.0",
     "model_name": "HTMLModel",
     "state": {
      "_dom_classes": [],
      "_model_module": "@jupyter-widgets/controls",
      "_model_module_version": "1.5.0",
      "_model_name": "HTMLModel",
      "_view_count": null,
      "_view_module": "@jupyter-widgets/controls",
      "_view_module_version": "1.5.0",
      "_view_name": "HTMLView",
      "description": "",
      "description_tooltip": null,
      "layout": "IPY_MODEL_d9e606650e9443b6aa6e536ca992a055",
      "placeholder": "​",
      "style": "IPY_MODEL_01b633aaa84b4b1aa1b768d94ce51b4a",
      "value": "Downloading: 100%"
     }
    },
    "42d4f3306e354df8a8e2a8db617e54ba": {
     "model_module": "@jupyter-widgets/controls",
     "model_module_version": "1.5.0",
     "model_name": "FloatProgressModel",
     "state": {
      "_dom_classes": [],
      "_model_module": "@jupyter-widgets/controls",
      "_model_module_version": "1.5.0",
      "_model_name": "FloatProgressModel",
      "_view_count": null,
      "_view_module": "@jupyter-widgets/controls",
      "_view_module_version": "1.5.0",
      "_view_name": "ProgressView",
      "bar_style": "success",
      "description": "",
      "description_tooltip": null,
      "layout": "IPY_MODEL_8e17aba45ca946b5bd5468eebcd0b583",
      "max": 231508,
      "min": 0,
      "orientation": "horizontal",
      "style": "IPY_MODEL_52b9fc425b9045ec9094f8ea1596d7e0",
      "value": 231508
     }
    },
    "4435d2c4e525423783ac12bc9d253e5b": {
     "model_module": "@jupyter-widgets/base",
     "model_module_version": "1.2.0",
     "model_name": "LayoutModel",
     "state": {
      "_model_module": "@jupyter-widgets/base",
      "_model_module_version": "1.2.0",
      "_model_name": "LayoutModel",
      "_view_count": null,
      "_view_module": "@jupyter-widgets/base",
      "_view_module_version": "1.2.0",
      "_view_name": "LayoutView",
      "align_content": null,
      "align_items": null,
      "align_self": null,
      "border": null,
      "bottom": null,
      "display": null,
      "flex": null,
      "flex_flow": null,
      "grid_area": null,
      "grid_auto_columns": null,
      "grid_auto_flow": null,
      "grid_auto_rows": null,
      "grid_column": null,
      "grid_gap": null,
      "grid_row": null,
      "grid_template_areas": null,
      "grid_template_columns": null,
      "grid_template_rows": null,
      "height": null,
      "justify_content": null,
      "justify_items": null,
      "left": null,
      "margin": null,
      "max_height": null,
      "max_width": null,
      "min_height": null,
      "min_width": null,
      "object_fit": null,
      "object_position": null,
      "order": null,
      "overflow": null,
      "overflow_x": null,
      "overflow_y": null,
      "padding": null,
      "right": null,
      "top": null,
      "visibility": null,
      "width": null
     }
    },
    "470dcc574e3b4b3f8810126f721029e6": {
     "model_module": "@jupyter-widgets/controls",
     "model_module_version": "1.5.0",
     "model_name": "HTMLModel",
     "state": {
      "_dom_classes": [],
      "_model_module": "@jupyter-widgets/controls",
      "_model_module_version": "1.5.0",
      "_model_name": "HTMLModel",
      "_view_count": null,
      "_view_module": "@jupyter-widgets/controls",
      "_view_module_version": "1.5.0",
      "_view_name": "HTMLView",
      "description": "",
      "description_tooltip": null,
      "layout": "IPY_MODEL_27891ada2b814027ba63382258bbd8ea",
      "placeholder": "​",
      "style": "IPY_MODEL_dacb4d4f1b0247ce8199aeeabfcb6be9",
      "value": " 455k/455k [00:00&lt;00:00, 635kB/s]"
     }
    },
    "4913353c010841ed90701a5ba48720e1": {
     "model_module": "@jupyter-widgets/base",
     "model_module_version": "1.2.0",
     "model_name": "LayoutModel",
     "state": {
      "_model_module": "@jupyter-widgets/base",
      "_model_module_version": "1.2.0",
      "_model_name": "LayoutModel",
      "_view_count": null,
      "_view_module": "@jupyter-widgets/base",
      "_view_module_version": "1.2.0",
      "_view_name": "LayoutView",
      "align_content": null,
      "align_items": null,
      "align_self": null,
      "border": null,
      "bottom": null,
      "display": null,
      "flex": null,
      "flex_flow": null,
      "grid_area": null,
      "grid_auto_columns": null,
      "grid_auto_flow": null,
      "grid_auto_rows": null,
      "grid_column": null,
      "grid_gap": null,
      "grid_row": null,
      "grid_template_areas": null,
      "grid_template_columns": null,
      "grid_template_rows": null,
      "height": null,
      "justify_content": null,
      "justify_items": null,
      "left": null,
      "margin": null,
      "max_height": null,
      "max_width": null,
      "min_height": null,
      "min_width": null,
      "object_fit": null,
      "object_position": null,
      "order": null,
      "overflow": null,
      "overflow_x": null,
      "overflow_y": null,
      "padding": null,
      "right": null,
      "top": null,
      "visibility": null,
      "width": null
     }
    },
    "52b9fc425b9045ec9094f8ea1596d7e0": {
     "model_module": "@jupyter-widgets/controls",
     "model_module_version": "1.5.0",
     "model_name": "ProgressStyleModel",
     "state": {
      "_model_module": "@jupyter-widgets/controls",
      "_model_module_version": "1.5.0",
      "_model_name": "ProgressStyleModel",
      "_view_count": null,
      "_view_module": "@jupyter-widgets/base",
      "_view_module_version": "1.2.0",
      "_view_name": "StyleView",
      "bar_color": null,
      "description_width": ""
     }
    },
    "5b4eac47b0174029ae544af40c120190": {
     "model_module": "@jupyter-widgets/controls",
     "model_module_version": "1.5.0",
     "model_name": "ProgressStyleModel",
     "state": {
      "_model_module": "@jupyter-widgets/controls",
      "_model_module_version": "1.5.0",
      "_model_name": "ProgressStyleModel",
      "_view_count": null,
      "_view_module": "@jupyter-widgets/base",
      "_view_module_version": "1.2.0",
      "_view_name": "StyleView",
      "bar_color": null,
      "description_width": ""
     }
    },
    "6287340fb8ca45ceb4cf3ea104dacc72": {
     "model_module": "@jupyter-widgets/controls",
     "model_module_version": "1.5.0",
     "model_name": "HBoxModel",
     "state": {
      "_dom_classes": [],
      "_model_module": "@jupyter-widgets/controls",
      "_model_module_version": "1.5.0",
      "_model_name": "HBoxModel",
      "_view_count": null,
      "_view_module": "@jupyter-widgets/controls",
      "_view_module_version": "1.5.0",
      "_view_name": "HBoxView",
      "box_style": "",
      "children": [
       "IPY_MODEL_cd45ea1be5cb4dd29628ccbb9f140a92",
       "IPY_MODEL_d011e2705b21401ab0ca49af16d9b90c",
       "IPY_MODEL_470dcc574e3b4b3f8810126f721029e6"
      ],
      "layout": "IPY_MODEL_972117fb369b45269d19e47a574490ec"
     }
    },
    "7246bbfc86c641ebae67156ce5159863": {
     "model_module": "@jupyter-widgets/controls",
     "model_module_version": "1.5.0",
     "model_name": "HBoxModel",
     "state": {
      "_dom_classes": [],
      "_model_module": "@jupyter-widgets/controls",
      "_model_module_version": "1.5.0",
      "_model_name": "HBoxModel",
      "_view_count": null,
      "_view_module": "@jupyter-widgets/controls",
      "_view_module_version": "1.5.0",
      "_view_name": "HBoxView",
      "box_style": "",
      "children": [
       "IPY_MODEL_418eb96d4b614003814823826f4035e6",
       "IPY_MODEL_00cb065cfa7344458624f5a3728094b5",
       "IPY_MODEL_ad2643c074bf46bf92e85aee66ae4cc5"
      ],
      "layout": "IPY_MODEL_09e198a6412d45b4bace8f5825c9ab63"
     }
    },
    "79235bf76e3b4b7a83b1f7aaf04127ab": {
     "model_module": "@jupyter-widgets/base",
     "model_module_version": "1.2.0",
     "model_name": "LayoutModel",
     "state": {
      "_model_module": "@jupyter-widgets/base",
      "_model_module_version": "1.2.0",
      "_model_name": "LayoutModel",
      "_view_count": null,
      "_view_module": "@jupyter-widgets/base",
      "_view_module_version": "1.2.0",
      "_view_name": "LayoutView",
      "align_content": null,
      "align_items": null,
      "align_self": null,
      "border": null,
      "bottom": null,
      "display": null,
      "flex": null,
      "flex_flow": null,
      "grid_area": null,
      "grid_auto_columns": null,
      "grid_auto_flow": null,
      "grid_auto_rows": null,
      "grid_column": null,
      "grid_gap": null,
      "grid_row": null,
      "grid_template_areas": null,
      "grid_template_columns": null,
      "grid_template_rows": null,
      "height": null,
      "justify_content": null,
      "justify_items": null,
      "left": null,
      "margin": null,
      "max_height": null,
      "max_width": null,
      "min_height": null,
      "min_width": null,
      "object_fit": null,
      "object_position": null,
      "order": null,
      "overflow": null,
      "overflow_x": null,
      "overflow_y": null,
      "padding": null,
      "right": null,
      "top": null,
      "visibility": null,
      "width": null
     }
    },
    "7cde069f37c449398a599d1283299990": {
     "model_module": "@jupyter-widgets/base",
     "model_module_version": "1.2.0",
     "model_name": "LayoutModel",
     "state": {
      "_model_module": "@jupyter-widgets/base",
      "_model_module_version": "1.2.0",
      "_model_name": "LayoutModel",
      "_view_count": null,
      "_view_module": "@jupyter-widgets/base",
      "_view_module_version": "1.2.0",
      "_view_name": "LayoutView",
      "align_content": null,
      "align_items": null,
      "align_self": null,
      "border": null,
      "bottom": null,
      "display": null,
      "flex": null,
      "flex_flow": null,
      "grid_area": null,
      "grid_auto_columns": null,
      "grid_auto_flow": null,
      "grid_auto_rows": null,
      "grid_column": null,
      "grid_gap": null,
      "grid_row": null,
      "grid_template_areas": null,
      "grid_template_columns": null,
      "grid_template_rows": null,
      "height": null,
      "justify_content": null,
      "justify_items": null,
      "left": null,
      "margin": null,
      "max_height": null,
      "max_width": null,
      "min_height": null,
      "min_width": null,
      "object_fit": null,
      "object_position": null,
      "order": null,
      "overflow": null,
      "overflow_x": null,
      "overflow_y": null,
      "padding": null,
      "right": null,
      "top": null,
      "visibility": null,
      "width": null
     }
    },
    "7ea4fc5633314d69a17fcb616045382a": {
     "model_module": "@jupyter-widgets/controls",
     "model_module_version": "1.5.0",
     "model_name": "DescriptionStyleModel",
     "state": {
      "_model_module": "@jupyter-widgets/controls",
      "_model_module_version": "1.5.0",
      "_model_name": "DescriptionStyleModel",
      "_view_count": null,
      "_view_module": "@jupyter-widgets/base",
      "_view_module_version": "1.2.0",
      "_view_name": "StyleView",
      "description_width": ""
     }
    },
    "7f3ca1bf885d4cf38bf5117e6f581c2f": {
     "model_module": "@jupyter-widgets/base",
     "model_module_version": "1.2.0",
     "model_name": "LayoutModel",
     "state": {
      "_model_module": "@jupyter-widgets/base",
      "_model_module_version": "1.2.0",
      "_model_name": "LayoutModel",
      "_view_count": null,
      "_view_module": "@jupyter-widgets/base",
      "_view_module_version": "1.2.0",
      "_view_name": "LayoutView",
      "align_content": null,
      "align_items": null,
      "align_self": null,
      "border": null,
      "bottom": null,
      "display": null,
      "flex": null,
      "flex_flow": null,
      "grid_area": null,
      "grid_auto_columns": null,
      "grid_auto_flow": null,
      "grid_auto_rows": null,
      "grid_column": null,
      "grid_gap": null,
      "grid_row": null,
      "grid_template_areas": null,
      "grid_template_columns": null,
      "grid_template_rows": null,
      "height": null,
      "justify_content": null,
      "justify_items": null,
      "left": null,
      "margin": null,
      "max_height": null,
      "max_width": null,
      "min_height": null,
      "min_width": null,
      "object_fit": null,
      "object_position": null,
      "order": null,
      "overflow": null,
      "overflow_x": null,
      "overflow_y": null,
      "padding": null,
      "right": null,
      "top": null,
      "visibility": null,
      "width": null
     }
    },
    "8596735a407645efa9159ddb044e4830": {
     "model_module": "@jupyter-widgets/controls",
     "model_module_version": "1.5.0",
     "model_name": "FloatProgressModel",
     "state": {
      "_dom_classes": [],
      "_model_module": "@jupyter-widgets/controls",
      "_model_module_version": "1.5.0",
      "_model_name": "FloatProgressModel",
      "_view_count": null,
      "_view_module": "@jupyter-widgets/controls",
      "_view_module_version": "1.5.0",
      "_view_name": "ProgressView",
      "bar_style": "success",
      "description": "",
      "description_tooltip": null,
      "layout": "IPY_MODEL_f62f6a5415724b33bc80549e5f5eeb40",
      "max": 28,
      "min": 0,
      "orientation": "horizontal",
      "style": "IPY_MODEL_c07e6f1788c14ad6bac28cab7e350009",
      "value": 28
     }
    },
    "89b65282e1bd41e79a06c1e17196e8c5": {
     "model_module": "@jupyter-widgets/controls",
     "model_module_version": "1.5.0",
     "model_name": "HBoxModel",
     "state": {
      "_dom_classes": [],
      "_model_module": "@jupyter-widgets/controls",
      "_model_module_version": "1.5.0",
      "_model_name": "HBoxModel",
      "_view_count": null,
      "_view_module": "@jupyter-widgets/controls",
      "_view_module_version": "1.5.0",
      "_view_name": "HBoxView",
      "box_style": "",
      "children": [
       "IPY_MODEL_dff10207866d45088e390ed1b0fa11d0",
       "IPY_MODEL_8596735a407645efa9159ddb044e4830",
       "IPY_MODEL_16d77615b63f4bdcb4d3e2061a963b84"
      ],
      "layout": "IPY_MODEL_7f3ca1bf885d4cf38bf5117e6f581c2f"
     }
    },
    "8a7cd5de1caa47588dfcab33bf9ab85c": {
     "model_module": "@jupyter-widgets/controls",
     "model_module_version": "1.5.0",
     "model_name": "HTMLModel",
     "state": {
      "_dom_classes": [],
      "_model_module": "@jupyter-widgets/controls",
      "_model_module_version": "1.5.0",
      "_model_name": "HTMLModel",
      "_view_count": null,
      "_view_module": "@jupyter-widgets/controls",
      "_view_module_version": "1.5.0",
      "_view_name": "HTMLView",
      "description": "",
      "description_tooltip": null,
      "layout": "IPY_MODEL_ecdba4cfa3cd4e96b88d325fd87a3af5",
      "placeholder": "​",
      "style": "IPY_MODEL_97782e56b2274708927e9763da069ffb",
      "value": " 226k/226k [00:00&lt;00:00, 271kB/s]"
     }
    },
    "8e17aba45ca946b5bd5468eebcd0b583": {
     "model_module": "@jupyter-widgets/base",
     "model_module_version": "1.2.0",
     "model_name": "LayoutModel",
     "state": {
      "_model_module": "@jupyter-widgets/base",
      "_model_module_version": "1.2.0",
      "_model_name": "LayoutModel",
      "_view_count": null,
      "_view_module": "@jupyter-widgets/base",
      "_view_module_version": "1.2.0",
      "_view_name": "LayoutView",
      "align_content": null,
      "align_items": null,
      "align_self": null,
      "border": null,
      "bottom": null,
      "display": null,
      "flex": null,
      "flex_flow": null,
      "grid_area": null,
      "grid_auto_columns": null,
      "grid_auto_flow": null,
      "grid_auto_rows": null,
      "grid_column": null,
      "grid_gap": null,
      "grid_row": null,
      "grid_template_areas": null,
      "grid_template_columns": null,
      "grid_template_rows": null,
      "height": null,
      "justify_content": null,
      "justify_items": null,
      "left": null,
      "margin": null,
      "max_height": null,
      "max_width": null,
      "min_height": null,
      "min_width": null,
      "object_fit": null,
      "object_position": null,
      "order": null,
      "overflow": null,
      "overflow_x": null,
      "overflow_y": null,
      "padding": null,
      "right": null,
      "top": null,
      "visibility": null,
      "width": null
     }
    },
    "972117fb369b45269d19e47a574490ec": {
     "model_module": "@jupyter-widgets/base",
     "model_module_version": "1.2.0",
     "model_name": "LayoutModel",
     "state": {
      "_model_module": "@jupyter-widgets/base",
      "_model_module_version": "1.2.0",
      "_model_name": "LayoutModel",
      "_view_count": null,
      "_view_module": "@jupyter-widgets/base",
      "_view_module_version": "1.2.0",
      "_view_name": "LayoutView",
      "align_content": null,
      "align_items": null,
      "align_self": null,
      "border": null,
      "bottom": null,
      "display": null,
      "flex": null,
      "flex_flow": null,
      "grid_area": null,
      "grid_auto_columns": null,
      "grid_auto_flow": null,
      "grid_auto_rows": null,
      "grid_column": null,
      "grid_gap": null,
      "grid_row": null,
      "grid_template_areas": null,
      "grid_template_columns": null,
      "grid_template_rows": null,
      "height": null,
      "justify_content": null,
      "justify_items": null,
      "left": null,
      "margin": null,
      "max_height": null,
      "max_width": null,
      "min_height": null,
      "min_width": null,
      "object_fit": null,
      "object_position": null,
      "order": null,
      "overflow": null,
      "overflow_x": null,
      "overflow_y": null,
      "padding": null,
      "right": null,
      "top": null,
      "visibility": null,
      "width": null
     }
    },
    "97782e56b2274708927e9763da069ffb": {
     "model_module": "@jupyter-widgets/controls",
     "model_module_version": "1.5.0",
     "model_name": "DescriptionStyleModel",
     "state": {
      "_model_module": "@jupyter-widgets/controls",
      "_model_module_version": "1.5.0",
      "_model_name": "DescriptionStyleModel",
      "_view_count": null,
      "_view_module": "@jupyter-widgets/base",
      "_view_module_version": "1.2.0",
      "_view_name": "StyleView",
      "description_width": ""
     }
    },
    "9916666c7a314a0ca85ed9862f485a59": {
     "model_module": "@jupyter-widgets/base",
     "model_module_version": "1.2.0",
     "model_name": "LayoutModel",
     "state": {
      "_model_module": "@jupyter-widgets/base",
      "_model_module_version": "1.2.0",
      "_model_name": "LayoutModel",
      "_view_count": null,
      "_view_module": "@jupyter-widgets/base",
      "_view_module_version": "1.2.0",
      "_view_name": "LayoutView",
      "align_content": null,
      "align_items": null,
      "align_self": null,
      "border": null,
      "bottom": null,
      "display": null,
      "flex": null,
      "flex_flow": null,
      "grid_area": null,
      "grid_auto_columns": null,
      "grid_auto_flow": null,
      "grid_auto_rows": null,
      "grid_column": null,
      "grid_gap": null,
      "grid_row": null,
      "grid_template_areas": null,
      "grid_template_columns": null,
      "grid_template_rows": null,
      "height": null,
      "justify_content": null,
      "justify_items": null,
      "left": null,
      "margin": null,
      "max_height": null,
      "max_width": null,
      "min_height": null,
      "min_width": null,
      "object_fit": null,
      "object_position": null,
      "order": null,
      "overflow": null,
      "overflow_x": null,
      "overflow_y": null,
      "padding": null,
      "right": null,
      "top": null,
      "visibility": null,
      "width": null
     }
    },
    "ad2643c074bf46bf92e85aee66ae4cc5": {
     "model_module": "@jupyter-widgets/controls",
     "model_module_version": "1.5.0",
     "model_name": "HTMLModel",
     "state": {
      "_dom_classes": [],
      "_model_module": "@jupyter-widgets/controls",
      "_model_module_version": "1.5.0",
      "_model_name": "HTMLModel",
      "_view_count": null,
      "_view_module": "@jupyter-widgets/controls",
      "_view_module_version": "1.5.0",
      "_view_name": "HTMLView",
      "description": "",
      "description_tooltip": null,
      "layout": "IPY_MODEL_7cde069f37c449398a599d1283299990",
      "placeholder": "​",
      "style": "IPY_MODEL_24131b04eb4046859fdd86e70d2ce7f6",
      "value": " 570/570 [00:00&lt;00:00, 10.7kB/s]"
     }
    },
    "c07e6f1788c14ad6bac28cab7e350009": {
     "model_module": "@jupyter-widgets/controls",
     "model_module_version": "1.5.0",
     "model_name": "ProgressStyleModel",
     "state": {
      "_model_module": "@jupyter-widgets/controls",
      "_model_module_version": "1.5.0",
      "_model_name": "ProgressStyleModel",
      "_view_count": null,
      "_view_module": "@jupyter-widgets/base",
      "_view_module_version": "1.2.0",
      "_view_name": "StyleView",
      "bar_color": null,
      "description_width": ""
     }
    },
    "c2cc58968ecf4bd295ed893f86e39040": {
     "model_module": "@jupyter-widgets/controls",
     "model_module_version": "1.5.0",
     "model_name": "HTMLModel",
     "state": {
      "_dom_classes": [],
      "_model_module": "@jupyter-widgets/controls",
      "_model_module_version": "1.5.0",
      "_model_name": "HTMLModel",
      "_view_count": null,
      "_view_module": "@jupyter-widgets/controls",
      "_view_module_version": "1.5.0",
      "_view_name": "HTMLView",
      "description": "",
      "description_tooltip": null,
      "layout": "IPY_MODEL_3edcfd58c8894b76a298584262a44fc4",
      "placeholder": "​",
      "style": "IPY_MODEL_18c97f36252041fbb68476bfa4ef6dd6",
      "value": "Downloading: 100%"
     }
    },
    "cd45ea1be5cb4dd29628ccbb9f140a92": {
     "model_module": "@jupyter-widgets/controls",
     "model_module_version": "1.5.0",
     "model_name": "HTMLModel",
     "state": {
      "_dom_classes": [],
      "_model_module": "@jupyter-widgets/controls",
      "_model_module_version": "1.5.0",
      "_model_name": "HTMLModel",
      "_view_count": null,
      "_view_module": "@jupyter-widgets/controls",
      "_view_module_version": "1.5.0",
      "_view_name": "HTMLView",
      "description": "",
      "description_tooltip": null,
      "layout": "IPY_MODEL_79235bf76e3b4b7a83b1f7aaf04127ab",
      "placeholder": "​",
      "style": "IPY_MODEL_df3629cd1bbc413e901be1b52e3d268d",
      "value": "Downloading: 100%"
     }
    },
    "d011e2705b21401ab0ca49af16d9b90c": {
     "model_module": "@jupyter-widgets/controls",
     "model_module_version": "1.5.0",
     "model_name": "FloatProgressModel",
     "state": {
      "_dom_classes": [],
      "_model_module": "@jupyter-widgets/controls",
      "_model_module_version": "1.5.0",
      "_model_name": "FloatProgressModel",
      "_view_count": null,
      "_view_module": "@jupyter-widgets/controls",
      "_view_module_version": "1.5.0",
      "_view_name": "ProgressView",
      "bar_style": "success",
      "description": "",
      "description_tooltip": null,
      "layout": "IPY_MODEL_ffcd942d1b3e4e02b8c0562cfa2a124c",
      "max": 466062,
      "min": 0,
      "orientation": "horizontal",
      "style": "IPY_MODEL_f92b32f6dccc430f816743c84f371676",
      "value": 466062
     }
    },
    "d9e606650e9443b6aa6e536ca992a055": {
     "model_module": "@jupyter-widgets/base",
     "model_module_version": "1.2.0",
     "model_name": "LayoutModel",
     "state": {
      "_model_module": "@jupyter-widgets/base",
      "_model_module_version": "1.2.0",
      "_model_name": "LayoutModel",
      "_view_count": null,
      "_view_module": "@jupyter-widgets/base",
      "_view_module_version": "1.2.0",
      "_view_name": "LayoutView",
      "align_content": null,
      "align_items": null,
      "align_self": null,
      "border": null,
      "bottom": null,
      "display": null,
      "flex": null,
      "flex_flow": null,
      "grid_area": null,
      "grid_auto_columns": null,
      "grid_auto_flow": null,
      "grid_auto_rows": null,
      "grid_column": null,
      "grid_gap": null,
      "grid_row": null,
      "grid_template_areas": null,
      "grid_template_columns": null,
      "grid_template_rows": null,
      "height": null,
      "justify_content": null,
      "justify_items": null,
      "left": null,
      "margin": null,
      "max_height": null,
      "max_width": null,
      "min_height": null,
      "min_width": null,
      "object_fit": null,
      "object_position": null,
      "order": null,
      "overflow": null,
      "overflow_x": null,
      "overflow_y": null,
      "padding": null,
      "right": null,
      "top": null,
      "visibility": null,
      "width": null
     }
    },
    "dacb4d4f1b0247ce8199aeeabfcb6be9": {
     "model_module": "@jupyter-widgets/controls",
     "model_module_version": "1.5.0",
     "model_name": "DescriptionStyleModel",
     "state": {
      "_model_module": "@jupyter-widgets/controls",
      "_model_module_version": "1.5.0",
      "_model_name": "DescriptionStyleModel",
      "_view_count": null,
      "_view_module": "@jupyter-widgets/base",
      "_view_module_version": "1.2.0",
      "_view_name": "StyleView",
      "description_width": ""
     }
    },
    "df3629cd1bbc413e901be1b52e3d268d": {
     "model_module": "@jupyter-widgets/controls",
     "model_module_version": "1.5.0",
     "model_name": "DescriptionStyleModel",
     "state": {
      "_model_module": "@jupyter-widgets/controls",
      "_model_module_version": "1.5.0",
      "_model_name": "DescriptionStyleModel",
      "_view_count": null,
      "_view_module": "@jupyter-widgets/base",
      "_view_module_version": "1.2.0",
      "_view_name": "StyleView",
      "description_width": ""
     }
    },
    "dff10207866d45088e390ed1b0fa11d0": {
     "model_module": "@jupyter-widgets/controls",
     "model_module_version": "1.5.0",
     "model_name": "HTMLModel",
     "state": {
      "_dom_classes": [],
      "_model_module": "@jupyter-widgets/controls",
      "_model_module_version": "1.5.0",
      "_model_name": "HTMLModel",
      "_view_count": null,
      "_view_module": "@jupyter-widgets/controls",
      "_view_module_version": "1.5.0",
      "_view_name": "HTMLView",
      "description": "",
      "description_tooltip": null,
      "layout": "IPY_MODEL_4435d2c4e525423783ac12bc9d253e5b",
      "placeholder": "​",
      "style": "IPY_MODEL_260dc2ca44044bddae0001f6d1392ac2",
      "value": "Downloading: 100%"
     }
    },
    "ecdba4cfa3cd4e96b88d325fd87a3af5": {
     "model_module": "@jupyter-widgets/base",
     "model_module_version": "1.2.0",
     "model_name": "LayoutModel",
     "state": {
      "_model_module": "@jupyter-widgets/base",
      "_model_module_version": "1.2.0",
      "_model_name": "LayoutModel",
      "_view_count": null,
      "_view_module": "@jupyter-widgets/base",
      "_view_module_version": "1.2.0",
      "_view_name": "LayoutView",
      "align_content": null,
      "align_items": null,
      "align_self": null,
      "border": null,
      "bottom": null,
      "display": null,
      "flex": null,
      "flex_flow": null,
      "grid_area": null,
      "grid_auto_columns": null,
      "grid_auto_flow": null,
      "grid_auto_rows": null,
      "grid_column": null,
      "grid_gap": null,
      "grid_row": null,
      "grid_template_areas": null,
      "grid_template_columns": null,
      "grid_template_rows": null,
      "height": null,
      "justify_content": null,
      "justify_items": null,
      "left": null,
      "margin": null,
      "max_height": null,
      "max_width": null,
      "min_height": null,
      "min_width": null,
      "object_fit": null,
      "object_position": null,
      "order": null,
      "overflow": null,
      "overflow_x": null,
      "overflow_y": null,
      "padding": null,
      "right": null,
      "top": null,
      "visibility": null,
      "width": null
     }
    },
    "f62f6a5415724b33bc80549e5f5eeb40": {
     "model_module": "@jupyter-widgets/base",
     "model_module_version": "1.2.0",
     "model_name": "LayoutModel",
     "state": {
      "_model_module": "@jupyter-widgets/base",
      "_model_module_version": "1.2.0",
      "_model_name": "LayoutModel",
      "_view_count": null,
      "_view_module": "@jupyter-widgets/base",
      "_view_module_version": "1.2.0",
      "_view_name": "LayoutView",
      "align_content": null,
      "align_items": null,
      "align_self": null,
      "border": null,
      "bottom": null,
      "display": null,
      "flex": null,
      "flex_flow": null,
      "grid_area": null,
      "grid_auto_columns": null,
      "grid_auto_flow": null,
      "grid_auto_rows": null,
      "grid_column": null,
      "grid_gap": null,
      "grid_row": null,
      "grid_template_areas": null,
      "grid_template_columns": null,
      "grid_template_rows": null,
      "height": null,
      "justify_content": null,
      "justify_items": null,
      "left": null,
      "margin": null,
      "max_height": null,
      "max_width": null,
      "min_height": null,
      "min_width": null,
      "object_fit": null,
      "object_position": null,
      "order": null,
      "overflow": null,
      "overflow_x": null,
      "overflow_y": null,
      "padding": null,
      "right": null,
      "top": null,
      "visibility": null,
      "width": null
     }
    },
    "f92b32f6dccc430f816743c84f371676": {
     "model_module": "@jupyter-widgets/controls",
     "model_module_version": "1.5.0",
     "model_name": "ProgressStyleModel",
     "state": {
      "_model_module": "@jupyter-widgets/controls",
      "_model_module_version": "1.5.0",
      "_model_name": "ProgressStyleModel",
      "_view_count": null,
      "_view_module": "@jupyter-widgets/base",
      "_view_module_version": "1.2.0",
      "_view_name": "StyleView",
      "bar_color": null,
      "description_width": ""
     }
    },
    "ffcd942d1b3e4e02b8c0562cfa2a124c": {
     "model_module": "@jupyter-widgets/base",
     "model_module_version": "1.2.0",
     "model_name": "LayoutModel",
     "state": {
      "_model_module": "@jupyter-widgets/base",
      "_model_module_version": "1.2.0",
      "_model_name": "LayoutModel",
      "_view_count": null,
      "_view_module": "@jupyter-widgets/base",
      "_view_module_version": "1.2.0",
      "_view_name": "LayoutView",
      "align_content": null,
      "align_items": null,
      "align_self": null,
      "border": null,
      "bottom": null,
      "display": null,
      "flex": null,
      "flex_flow": null,
      "grid_area": null,
      "grid_auto_columns": null,
      "grid_auto_flow": null,
      "grid_auto_rows": null,
      "grid_column": null,
      "grid_gap": null,
      "grid_row": null,
      "grid_template_areas": null,
      "grid_template_columns": null,
      "grid_template_rows": null,
      "height": null,
      "justify_content": null,
      "justify_items": null,
      "left": null,
      "margin": null,
      "max_height": null,
      "max_width": null,
      "min_height": null,
      "min_width": null,
      "object_fit": null,
      "object_position": null,
      "order": null,
      "overflow": null,
      "overflow_x": null,
      "overflow_y": null,
      "padding": null,
      "right": null,
      "top": null,
      "visibility": null,
      "width": null
     }
    }
   }
  }
 },
 "nbformat": 4,
 "nbformat_minor": 5
}
